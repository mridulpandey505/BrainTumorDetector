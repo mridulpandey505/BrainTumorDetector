{
 "cells": [
  {
   "cell_type": "code",
   "execution_count": null,
   "metadata": {
    "execution": {
     "iopub.execute_input": "2025-05-26T06:01:30.504927Z",
     "iopub.status.busy": "2025-05-26T06:01:30.504669Z",
     "iopub.status.idle": "2025-05-26T06:01:30.511213Z",
     "shell.execute_reply": "2025-05-26T06:01:30.510671Z",
     "shell.execute_reply.started": "2025-05-26T06:01:30.504909Z"
    },
    "trusted": true
   },
   "outputs": [],
   "source": [
    "train_dir = '//input/brain-tumor-mri-dataset/Training/'\n",
    "test_dir = '/input/brain-tumor-mri-dataset/Testing/'"
   ]
  },
  {
   "cell_type": "code",
   "execution_count": null,
   "metadata": {
    "execution": {
     "iopub.execute_input": "2025-05-26T06:01:57.230346Z",
     "iopub.status.busy": "2025-05-26T06:01:57.229871Z",
     "iopub.status.idle": "2025-05-26T06:02:17.523444Z",
     "shell.execute_reply": "2025-05-26T06:02:17.522849Z",
     "shell.execute_reply.started": "2025-05-26T06:01:57.230322Z"
    },
    "trusted": true
   },
   "outputs": [],
   "source": [
    "import tensorflow as tf\n",
    "from tensorflow import keras\n",
    "import numpy as np\n",
    "import matplotlib.pyplot as plt\n",
    "import warnings\n",
    "warnings.filterwarnings('ignore')"
   ]
  },
  {
   "cell_type": "code",
   "execution_count": null,
   "metadata": {
    "execution": {
     "iopub.execute_input": "2025-05-26T06:02:17.525270Z",
     "iopub.status.busy": "2025-05-26T06:02:17.524641Z",
     "iopub.status.idle": "2025-05-26T06:02:26.930375Z",
     "shell.execute_reply": "2025-05-26T06:02:26.929790Z",
     "shell.execute_reply.started": "2025-05-26T06:02:17.525242Z"
    },
    "trusted": true
   },
   "outputs": [],
   "source": [
    "train_data = keras.utils.image_dataset_from_directory(\n",
    "    train_dir,\n",
    "    validation_split = None,\n",
    "    image_size = (256,256),\n",
    "    batch_size = 32,\n",
    "    labels = 'inferred',\n",
    "    label_mode = 'categorical'\n",
    ")"
   ]
  },
  {
   "cell_type": "code",
   "execution_count": null,
   "metadata": {
    "execution": {
     "iopub.execute_input": "2025-05-26T06:02:28.347468Z",
     "iopub.status.busy": "2025-05-26T06:02:28.347159Z",
     "iopub.status.idle": "2025-05-26T06:02:28.353798Z",
     "shell.execute_reply": "2025-05-26T06:02:28.353193Z",
     "shell.execute_reply.started": "2025-05-26T06:02:28.347445Z"
    },
    "trusted": true
   },
   "outputs": [],
   "source": [
    "len(train_data)"
   ]
  },
  {
   "cell_type": "code",
   "execution_count": null,
   "metadata": {
    "execution": {
     "iopub.execute_input": "2025-05-26T06:02:30.722856Z",
     "iopub.status.busy": "2025-05-26T06:02:30.722592Z",
     "iopub.status.idle": "2025-05-26T06:02:32.018713Z",
     "shell.execute_reply": "2025-05-26T06:02:32.018002Z",
     "shell.execute_reply.started": "2025-05-26T06:02:30.722834Z"
    },
    "trusted": true
   },
   "outputs": [],
   "source": [
    "test_data,val_data = keras.utils.image_dataset_from_directory(\n",
    "    test_dir,\n",
    "    \n",
    "    validation_split = 0.5,\n",
    "    subset = 'both',\n",
    "    image_size = (256,256),\n",
    "    seed = 1223,\n",
    "    batch_size = 32,\n",
    "    labels = 'inferred',\n",
    "    label_mode = 'categorical'\n",
    ")"
   ]
  },
  {
   "cell_type": "code",
   "execution_count": null,
   "metadata": {
    "execution": {
     "iopub.execute_input": "2025-05-26T06:02:43.562503Z",
     "iopub.status.busy": "2025-05-26T06:02:43.562186Z",
     "iopub.status.idle": "2025-05-26T06:02:43.568535Z",
     "shell.execute_reply": "2025-05-26T06:02:43.567745Z",
     "shell.execute_reply.started": "2025-05-26T06:02:43.562479Z"
    },
    "trusted": true
   },
   "outputs": [],
   "source": [
    "len(train_data), len(test_data), len(val_data)"
   ]
  },
  {
   "cell_type": "code",
   "execution_count": null,
   "metadata": {
    "execution": {
     "iopub.execute_input": "2025-05-26T06:02:45.636295Z",
     "iopub.status.busy": "2025-05-26T06:02:45.635641Z",
     "iopub.status.idle": "2025-05-26T06:02:45.639415Z",
     "shell.execute_reply": "2025-05-26T06:02:45.638757Z",
     "shell.execute_reply.started": "2025-05-26T06:02:45.636272Z"
    },
    "trusted": true
   },
   "outputs": [],
   "source": [
    "classes = train_data.class_names"
   ]
  },
  {
   "cell_type": "code",
   "execution_count": null,
   "metadata": {
    "execution": {
     "iopub.execute_input": "2025-05-26T06:02:52.747326Z",
     "iopub.status.busy": "2025-05-26T06:02:52.746755Z",
     "iopub.status.idle": "2025-05-26T06:02:54.008278Z",
     "shell.execute_reply": "2025-05-26T06:02:54.007224Z",
     "shell.execute_reply.started": "2025-05-26T06:02:52.747303Z"
    },
    "trusted": true
   },
   "outputs": [],
   "source": [
    "plt.figure(figsize = (10,10))\n",
    "for img , label in train_data.take(1):\n",
    "    for i in range(0,9):\n",
    "        plt.subplot(3,3,i+1)\n",
    "        \n",
    "        plt.imshow(img[i].numpy().astype('uint'))\n",
    "        plt.title(classes[np.argmax(label[i])])\n",
    "        plt.axis('off')\n",
    "        \n",
    "        "
   ]
  },
  {
   "cell_type": "code",
   "execution_count": null,
   "metadata": {
    "execution": {
     "iopub.execute_input": "2025-05-26T06:03:03.407479Z",
     "iopub.status.busy": "2025-05-26T06:03:03.406953Z",
     "iopub.status.idle": "2025-05-26T06:03:03.412768Z",
     "shell.execute_reply": "2025-05-26T06:03:03.412257Z",
     "shell.execute_reply.started": "2025-05-26T06:03:03.407455Z"
    },
    "trusted": true
   },
   "outputs": [],
   "source": [
    "resize_and_rescale = keras.Sequential([\n",
    "    keras.layers.Resizing(256,256),\n",
    "    keras.layers.Rescaling(1./255)\n",
    "])"
   ]
  },
  {
   "cell_type": "code",
   "execution_count": null,
   "metadata": {
    "execution": {
     "iopub.execute_input": "2025-05-26T06:03:09.842594Z",
     "iopub.status.busy": "2025-05-26T06:03:09.842008Z",
     "iopub.status.idle": "2025-05-26T06:03:09.858839Z",
     "shell.execute_reply": "2025-05-26T06:03:09.858295Z",
     "shell.execute_reply.started": "2025-05-26T06:03:09.842571Z"
    },
    "trusted": true
   },
   "outputs": [],
   "source": [
    "\n",
    "data_aug = keras.Sequential([\n",
    "    keras.layers.RandomRotation(0.2),\n",
    "    keras.layers.RandomFlip(),\n",
    "    keras.layers.RandomTranslation(height_factor = 0.1, width_factor = 0.2),\n",
    "    keras.layers.RandomContrast(0.1)\n",
    "])"
   ]
  },
  {
   "cell_type": "code",
   "execution_count": null,
   "metadata": {
    "execution": {
     "iopub.execute_input": "2025-04-29T12:20:32.180457Z",
     "iopub.status.busy": "2025-04-29T12:20:32.179777Z",
     "iopub.status.idle": "2025-04-29T12:20:32.389773Z",
     "shell.execute_reply": "2025-04-29T12:20:32.388902Z",
     "shell.execute_reply.started": "2025-04-29T12:20:32.180433Z"
    },
    "trusted": true
   },
   "outputs": [],
   "source": [
    "from tensorflow.keras import backend as K\n",
    "\n",
    "K.clear_session()"
   ]
  },
  {
   "cell_type": "code",
   "execution_count": null,
   "metadata": {
    "execution": {
     "iopub.execute_input": "2025-05-26T06:03:24.277380Z",
     "iopub.status.busy": "2025-05-26T06:03:24.277060Z",
     "iopub.status.idle": "2025-05-26T06:03:26.531875Z",
     "shell.execute_reply": "2025-05-26T06:03:26.531324Z",
     "shell.execute_reply.started": "2025-05-26T06:03:24.277360Z"
    },
    "trusted": true
   },
   "outputs": [],
   "source": [
    "from keras.applications import Xception\n",
    "base_model = Xception(include_top = False, weights = 'imagenet', pooling = 'max')"
   ]
  },
  {
   "cell_type": "code",
   "execution_count": null,
   "metadata": {
    "execution": {
     "iopub.execute_input": "2025-05-26T06:04:52.757630Z",
     "iopub.status.busy": "2025-05-26T06:04:52.757335Z",
     "iopub.status.idle": "2025-05-26T06:04:52.761592Z",
     "shell.execute_reply": "2025-05-26T06:04:52.760758Z",
     "shell.execute_reply.started": "2025-05-26T06:04:52.757609Z"
    },
    "trusted": true
   },
   "outputs": [],
   "source": [
    "img_shape = (256,256,3)"
   ]
  },
  {
   "cell_type": "code",
   "execution_count": null,
   "metadata": {
    "execution": {
     "iopub.execute_input": "2025-05-26T06:33:18.600855Z",
     "iopub.status.busy": "2025-05-26T06:33:18.600009Z",
     "iopub.status.idle": "2025-05-26T06:33:18.652499Z",
     "shell.execute_reply": "2025-05-26T06:33:18.651965Z",
     "shell.execute_reply.started": "2025-05-26T06:33:18.600826Z"
    },
    "trusted": true
   },
   "outputs": [],
   "source": [
    "model = keras.Sequential([\n",
    "    keras.layers.Input(shape = img_shape),\n",
    "    resize_and_rescale, \n",
    "    base_model, \n",
    "    keras.layers.Flatten(),\n",
    "    keras.layers.Dropout(rate= 0.3),\n",
    "    keras.layers.Dense(128, activation= 'relu'),\n",
    "    keras.layers.Dropout(rate= 0.25),\n",
    "    keras.layers.Dense(64, activation = 'relu'),\n",
    "    keras.layers.Dropout(rate = 0.15),\n",
    "    keras.layers.Dense(4, activation= 'softmax')\n",
    "])\n"
   ]
  },
  {
   "cell_type": "code",
   "execution_count": null,
   "metadata": {
    "execution": {
     "iopub.execute_input": "2025-05-26T06:33:22.097083Z",
     "iopub.status.busy": "2025-05-26T06:33:22.096798Z",
     "iopub.status.idle": "2025-05-26T06:33:22.119200Z",
     "shell.execute_reply": "2025-05-26T06:33:22.118426Z",
     "shell.execute_reply.started": "2025-05-26T06:33:22.097064Z"
    },
    "trusted": true
   },
   "outputs": [],
   "source": [
    "model.summary()  "
   ]
  },
  {
   "cell_type": "code",
   "execution_count": null,
   "metadata": {
    "execution": {
     "iopub.execute_input": "2025-05-26T06:33:25.822525Z",
     "iopub.status.busy": "2025-05-26T06:33:25.821808Z",
     "iopub.status.idle": "2025-05-26T06:33:25.831112Z",
     "shell.execute_reply": "2025-05-26T06:33:25.830441Z",
     "shell.execute_reply.started": "2025-05-26T06:33:25.822499Z"
    },
    "trusted": true
   },
   "outputs": [],
   "source": [
    "model.compile(optimizer = 'Adam', loss = 'categorical_crossentropy', metrics = ['accuracy','precision', 'recall'])"
   ]
  },
  {
   "cell_type": "code",
   "execution_count": null,
   "metadata": {
    "execution": {
     "iopub.execute_input": "2025-05-26T06:33:39.570677Z",
     "iopub.status.busy": "2025-05-26T06:33:39.570011Z",
     "iopub.status.idle": "2025-05-26T06:33:39.574065Z",
     "shell.execute_reply": "2025-05-26T06:33:39.573416Z",
     "shell.execute_reply.started": "2025-05-26T06:33:39.570651Z"
    },
    "trusted": true
   },
   "outputs": [],
   "source": [
    "from tensorflow.keras.callbacks import EarlyStopping\n",
    "early_stop = EarlyStopping(\n",
    "    monitor = 'val_accuracy',\n",
    "    patience = 2,\n",
    "    restore_best_weights = True\n",
    ")"
   ]
  },
  {
   "cell_type": "code",
   "execution_count": null,
   "metadata": {
    "execution": {
     "iopub.execute_input": "2025-05-26T06:33:50.360473Z",
     "iopub.status.busy": "2025-05-26T06:33:50.360112Z",
     "iopub.status.idle": "2025-05-26T06:53:51.512182Z",
     "shell.execute_reply": "2025-05-26T06:53:51.511324Z",
     "shell.execute_reply.started": "2025-05-26T06:33:50.360448Z"
    },
    "trusted": true
   },
   "outputs": [],
   "source": [
    "hist = model.fit(train_data,\n",
    "          validation_data = val_data , \n",
    "          epochs = 10,\n",
    "          batch_size = 32,\n",
    "          callbacks = [early_stop])"
   ]
  },
  {
   "cell_type": "code",
   "execution_count": null,
   "metadata": {
    "execution": {
     "iopub.execute_input": "2025-05-26T06:54:40.415307Z",
     "iopub.status.busy": "2025-05-26T06:54:40.414933Z",
     "iopub.status.idle": "2025-05-26T06:54:45.890579Z",
     "shell.execute_reply": "2025-05-26T06:54:45.890004Z",
     "shell.execute_reply.started": "2025-05-26T06:54:40.415283Z"
    },
    "trusted": true
   },
   "outputs": [],
   "source": [
    "model.evaluate(test_data, verbose = 1)"
   ]
  },
  {
   "cell_type": "code",
   "execution_count": null,
   "metadata": {
    "execution": {
     "iopub.execute_input": "2025-05-26T06:54:50.924533Z",
     "iopub.status.busy": "2025-05-26T06:54:50.924031Z",
     "iopub.status.idle": "2025-05-26T06:54:50.928240Z",
     "shell.execute_reply": "2025-05-26T06:54:50.927212Z",
     "shell.execute_reply.started": "2025-05-26T06:54:50.924510Z"
    },
    "trusted": true
   },
   "outputs": [],
   "source": [
    "history = hist"
   ]
  },
  {
   "cell_type": "code",
   "execution_count": null,
   "metadata": {
    "execution": {
     "iopub.execute_input": "2025-05-26T06:54:52.920501Z",
     "iopub.status.busy": "2025-05-26T06:54:52.919898Z",
     "iopub.status.idle": "2025-05-26T06:54:53.250901Z",
     "shell.execute_reply": "2025-05-26T06:54:53.250328Z",
     "shell.execute_reply.started": "2025-05-26T06:54:52.920477Z"
    },
    "trusted": true
   },
   "outputs": [],
   "source": [
    "plt.plot(history.history['accuracy'], label='Training Accuracy')\n",
    "plt.plot(history.history['val_accuracy'], label='Validation Accuracy')\n",
    "plt.title('Model Accuracy')\n",
    "plt.ylabel('Accuracy')\n",
    "plt.xlabel('Epoch')\n",
    "plt.legend()\n",
    "plt.grid(True)\n",
    "plt.show()\n",
    "\n",
    "# Plot training & validation loss\n",
    "plt.plot(history.history['loss'], label='Training Loss')\n",
    "plt.plot(history.history['val_loss'], label='Validation Loss')\n",
    "plt.title('Model Loss')\n",
    "plt.ylabel('Loss')\n",
    "plt.xlabel('Epoch')\n",
    "plt.legend()\n",
    "plt.grid(True)\n",
    "plt.show()"
   ]
  },
  {
   "cell_type": "code",
   "execution_count": null,
   "metadata": {
    "execution": {
     "iopub.execute_input": "2025-05-26T06:55:09.307302Z",
     "iopub.status.busy": "2025-05-26T06:55:09.306807Z",
     "iopub.status.idle": "2025-05-26T06:55:10.546172Z",
     "shell.execute_reply": "2025-05-26T06:55:10.545399Z",
     "shell.execute_reply.started": "2025-05-26T06:55:09.307278Z"
    },
    "trusted": true
   },
   "outputs": [],
   "source": [
    "model.save('mrimodel.keras')"
   ]
  },
  {
   "cell_type": "code",
   "execution_count": null,
   "metadata": {
    "execution": {
     "iopub.execute_input": "2025-05-26T06:55:24.528255Z",
     "iopub.status.busy": "2025-05-26T06:55:24.527687Z",
     "iopub.status.idle": "2025-05-26T06:55:26.479278Z",
     "shell.execute_reply": "2025-05-26T06:55:26.478438Z",
     "shell.execute_reply.started": "2025-05-26T06:55:24.528231Z"
    },
    "trusted": true
   },
   "outputs": [],
   "source": [
    "load_model = keras.models.load_model('mrimodel.keras')"
   ]
  },
  {
   "cell_type": "code",
   "execution_count": null,
   "metadata": {
    "execution": {
     "iopub.execute_input": "2025-05-26T06:55:38.567822Z",
     "iopub.status.busy": "2025-05-26T06:55:38.567320Z",
     "iopub.status.idle": "2025-05-26T06:55:38.590461Z",
     "shell.execute_reply": "2025-05-26T06:55:38.589889Z",
     "shell.execute_reply.started": "2025-05-26T06:55:38.567799Z"
    },
    "trusted": true
   },
   "outputs": [],
   "source": [
    "load_model.summary()"
   ]
  },
  {
   "cell_type": "code",
   "execution_count": null,
   "metadata": {
    "execution": {
     "iopub.execute_input": "2025-05-26T06:57:20.646796Z",
     "iopub.status.busy": "2025-05-26T06:57:20.646206Z",
     "iopub.status.idle": "2025-05-26T06:57:24.698571Z",
     "shell.execute_reply": "2025-05-26T06:57:24.697959Z",
     "shell.execute_reply.started": "2025-05-26T06:57:20.646774Z"
    },
    "trusted": true
   },
   "outputs": [],
   "source": [
    "load_model.evaluate(test_data, verbose = 1)"
   ]
  }
 ],
 "metadata": {
  "kaggle": {
   "accelerator": "nvidiaTeslaT4",
   "dataSources": [
    {
     "datasetId": 1608934,
     "sourceId": 2645886,
     "sourceType": "datasetVersion"
    }
   ],
   "dockerImageVersionId": 31011,
   "isGpuEnabled": true,
   "isInternetEnabled": true,
   "language": "python",
   "sourceType": "notebook"
  },
  "kernelspec": {
   "display_name": "Python 3",
   "language": "python",
   "name": "python3"
  },
  "language_info": {
   "codemirror_mode": {
    "name": "ipython",
    "version": 3
   },
   "file_extension": ".py",
   "mimetype": "text/x-python",
   "name": "python",
   "nbconvert_exporter": "python",
   "pygments_lexer": "ipython3",
   "version": "3.11.11"
  }
 },
 "nbformat": 4,
 "nbformat_minor": 4
}
